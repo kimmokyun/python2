{
  "nbformat": 4,
  "nbformat_minor": 0,
  "metadata": {
    "colab": {
      "provenance": [],
      "authorship_tag": "ABX9TyPGYTonFe3WCNiHmfdP2zW9",
      "include_colab_link": true
    },
    "kernelspec": {
      "name": "python3",
      "display_name": "Python 3"
    },
    "language_info": {
      "name": "python"
    }
  },
  "cells": [
    {
      "cell_type": "markdown",
      "metadata": {
        "id": "view-in-github",
        "colab_type": "text"
      },
      "source": [
        "<a href=\"https://colab.research.google.com/github/kimmokyun/python2/blob/master/python_19_%EA%B3%B5%EA%B3%B5%EB%8D%B0%EC%9D%B4%ED%84%B0_%EC%9E%90%EC%A0%84%EA%B1%B0_%EC%82%AC%EA%B3%A0_%EB%8B%A4%EB%B0%9C%EC%A7%80%EC%97%AD.ipynb\" target=\"_parent\"><img src=\"https://colab.research.google.com/assets/colab-badge.svg\" alt=\"Open In Colab\"/></a>"
      ]
    },
    {
      "cell_type": "code",
      "execution_count": 1,
      "metadata": {
        "colab": {
          "base_uri": "https://localhost:8080/"
        },
        "id": "JNB_Zia1GyqH",
        "outputId": "8a2804d6-4511-4a18-9e7e-bb0336039312"
      },
      "outputs": [
        {
          "output_type": "stream",
          "name": "stdout",
          "text": [
            "Mounted at /content/drive\n",
            "/content/drive/MyDrive/python_demo\n"
          ]
        }
      ],
      "source": [
        "from google.colab import drive\n",
        "drive.mount('/content/drive')\n",
        "\n",
        "%cd /content/drive/MyDrive/python_demo"
      ]
    },
    {
      "cell_type": "markdown",
      "source": [
        "### 공공데이터 포털\n"
      ],
      "metadata": {
        "id": "XcQrChTnLEtj"
      }
    },
    {
      "cell_type": "code",
      "source": [
        "import requests\n",
        "import json\n",
        "import sys\n"
      ],
      "metadata": {
        "id": "6lIMT8pwLLmz"
      },
      "execution_count": 21,
      "outputs": []
    },
    {
      "cell_type": "code",
      "source": [
        "\n",
        "url = 'http://apis.data.go.kr/B552061/frequentzoneBicycle/getRestFrequentzoneBicycle'\n",
        "key = 'ZB3Luk2gu8j1bZ8pQfOfSA1gR1ibYXQtYucGRaxi8K5u3pydl1IDy5%2FC6k8ZDK5ovWcjfM1A3BW4U1gsCdGoIQ%3D%3D'\n",
        "params ={'serviceKey' : key, 'searchYearCd' : '2015', 'siDo' : '11', 'guGun' : '110', 'type' : 'json', 'numOfRows' : '10', 'pageNo' : '1' }\n",
        "\n",
        "response = requests.get(url, params=params)\n",
        "#print(response.content)\n",
        "response.json()"
      ],
      "metadata": {
        "colab": {
          "base_uri": "https://localhost:8080/"
        },
        "id": "z1Vtbre0LQLk",
        "outputId": "50f7d657-2632-43de-d0da-6b55f7ffb898"
      },
      "execution_count": 25,
      "outputs": [
        {
          "output_type": "execute_result",
          "data": {
            "text/plain": [
              "{'resultCode': '00',\n",
              " 'resultMsg': 'NORMAL_CODE',\n",
              " 'items': {'item': [{'afos_fid': 6223546,\n",
              "    'afos_id': '2016147',\n",
              "    'bjd_cd': '1111010100',\n",
              "    'spot_cd': '11110001',\n",
              "    'sido_sgg_nm': '서울특별시 종로구1',\n",
              "    'spot_nm': '서울특별시 종로구 청운동(자하문사거리 부근)',\n",
              "    'occrrnc_cnt': 5,\n",
              "    'caslt_cnt': 5,\n",
              "    'dth_dnv_cnt': 0,\n",
              "    'se_dnv_cnt': 2,\n",
              "    'sl_dnv_cnt': 2,\n",
              "    'wnd_dnv_cnt': 1,\n",
              "    'geom_json': '{\"type\":\"Polygon\",\"coordinates\":[[[126.96787817,37.59248581],[126.96784365,37.59220808],[126.96774141,37.59194102],[126.96757538,37.5916949],[126.96735195,37.59147917],[126.9670797,37.59130212],[126.96676908,37.59117057],[126.96643205,37.59108956],[126.96608154,37.5910622],[126.96573104,37.59108956],[126.965394,37.59117057],[126.96508339,37.59130212],[126.96481113,37.59147917],[126.9645877,37.5916949],[126.96442167,37.59194102],[126.96431943,37.59220808],[126.96428491,37.59248581],[126.96431943,37.59276354],[126.96442167,37.59303059],[126.9645877,37.59327671],[126.96481113,37.59349244],[126.96508339,37.59366948],[126.965394,37.59380103],[126.96573104,37.59388204],[126.96608154,37.59390939],[126.96643205,37.59388204],[126.96676908,37.59380103],[126.9670797,37.59366948],[126.96735195,37.59349244],[126.96757538,37.59327671],[126.96774141,37.59303059],[126.96784365,37.59276354],[126.96787817,37.59248581]]]}',\n",
              "    'lo_crd': '126.966081541031',\n",
              "    'la_crd': '37.592485810473'},\n",
              "   {'afos_fid': 6223570,\n",
              "    'afos_id': '2016147',\n",
              "    'bjd_cd': '1111015600',\n",
              "    'spot_cd': '11110002',\n",
              "    'sido_sgg_nm': '서울특별시 종로구2',\n",
              "    'spot_nm': '서울특별시 종로구 종로3가(종로3가 부근)',\n",
              "    'occrrnc_cnt': 4,\n",
              "    'caslt_cnt': 4,\n",
              "    'dth_dnv_cnt': 0,\n",
              "    'se_dnv_cnt': 1,\n",
              "    'sl_dnv_cnt': 1,\n",
              "    'wnd_dnv_cnt': 2,\n",
              "    'geom_json': '{\"type\":\"Polygon\",\"coordinates\":[[[126.99392295,37.57024572],[126.99388843,37.56996791],[126.99378619,37.56970077],[126.99362016,37.56945457],[126.99339673,37.56923878],[126.99312447,37.56906168],[126.99281386,37.56893009],[126.99247682,37.56884905],[126.99212632,37.56882169],[126.99177581,37.56884905],[126.99143878,37.56893009],[126.99112816,37.56906168],[126.99085591,37.56923878],[126.99063247,37.56945457],[126.99046645,37.56970077],[126.99036421,37.56996791],[126.99032969,37.57024572],[126.99036421,37.57052353],[126.99046645,37.57079067],[126.99063247,37.57103686],[126.99085591,37.57125265],[126.99112816,37.57142974],[126.99143878,37.57156133],[126.99177581,37.57164237],[126.99212632,37.57166973],[126.99247682,37.57164237],[126.99281386,37.57156133],[126.99312447,37.57142974],[126.99339673,37.57125265],[126.99362016,37.57103686],[126.99378619,37.57079067],[126.99388843,37.57052353],[126.99392295,37.57024572]]]}',\n",
              "    'lo_crd': '126.992126317577',\n",
              "    'la_crd': '37.570245721963'}]},\n",
              " 'totalCount': 2,\n",
              " 'numOfRows': 2,\n",
              " 'pageNo': 1}"
            ]
          },
          "metadata": {},
          "execution_count": 25
        }
      ]
    },
    {
      "cell_type": "markdown",
      "source": [
        "# 3. 분석 작업"
      ],
      "metadata": {
        "id": "6XJ35thLQeFh"
      }
    },
    {
      "cell_type": "code",
      "source": [
        "# item 접근\n",
        "w_data = response.json()['items']['item']\n",
        "for i in range(len(w_data)) :\n",
        "  print('spot_nm:' + w_data[i]['spot_nm'])\n",
        "  print('경도:' + w_data[i]['lo_crd'])\n",
        "  print('위도:' + w_data[i]['la_crd'])"
      ],
      "metadata": {
        "colab": {
          "base_uri": "https://localhost:8080/"
        },
        "id": "v9CNcpXSQfsT",
        "outputId": "3b995187-ab3d-4ea8-a17d-60d30f9ca2e3"
      },
      "execution_count": 27,
      "outputs": [
        {
          "output_type": "stream",
          "name": "stdout",
          "text": [
            "spot_nm:서울특별시 종로구 청운동(자하문사거리 부근)\n",
            "경도:126.966081541031\n",
            "위도:37.592485810473\n",
            "spot_nm:서울특별시 종로구 종로3가(종로3가 부근)\n",
            "경도:126.992126317577\n",
            "위도:37.570245721963\n"
          ]
        }
      ]
    },
    {
      "cell_type": "code",
      "source": [
        "\n",
        "#print(responseData)\n",
        "if response.status_code ==200:\n",
        " responseData = response.text\n",
        " dictdata = json.loads(responseData)\n",
        " print(type(dictdata))\n",
        " print(dictdata)\n",
        "\n",
        " #xd = xmltodict.parse(responseDate) #XML형식의 데이터를 dict 형식으로 변환\n",
        " #xdj = json.dump(xd. ensure_ascii=False) # dict형식의 데이터를 json형식으로 변환\n",
        " #xdjd = json.loads(xdj) # json형식의 데이터를 dict형식으로 변환\n",
        " #djd = json.loads(responseData) # str을 dict로 변환\n",
        " \n"
      ],
      "metadata": {
        "colab": {
          "base_uri": "https://localhost:8080/"
        },
        "id": "EVyi53xtU5Lu",
        "outputId": "bbefc4d3-4906-4742-a50a-36d064f03168"
      },
      "execution_count": 31,
      "outputs": [
        {
          "output_type": "execute_result",
          "data": {
            "text/plain": [
              "dict"
            ]
          },
          "metadata": {},
          "execution_count": 31
        }
      ]
    },
    {
      "cell_type": "code",
      "source": [],
      "metadata": {
        "id": "BqI2AsRmaeYx"
      },
      "execution_count": null,
      "outputs": []
    }
  ]
}