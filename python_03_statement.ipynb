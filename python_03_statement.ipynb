{
  "nbformat": 4,
  "nbformat_minor": 0,
  "metadata": {
    "colab": {
      "provenance": [],
      "authorship_tag": "ABX9TyPuFJoB39zf67/swwLZb5Qw",
      "include_colab_link": true
    },
    "kernelspec": {
      "name": "python3",
      "display_name": "Python 3"
    },
    "language_info": {
      "name": "python"
    }
  },
  "cells": [
    {
      "cell_type": "markdown",
      "metadata": {
        "id": "view-in-github",
        "colab_type": "text"
      },
      "source": [
        "<a href=\"https://colab.research.google.com/github/kimmokyun/python2/blob/master/python_03_statement.ipynb\" target=\"_parent\"><img src=\"https://colab.research.google.com/assets/colab-badge.svg\" alt=\"Open In Colab\"/></a>"
      ]
    },
    {
      "cell_type": "code",
      "execution_count": 1,
      "metadata": {
        "colab": {
          "base_uri": "https://localhost:8080/"
        },
        "id": "7dVt79Tkr7NL",
        "outputId": "a90c5fa5-5c3b-4d77-b779-c3e2601bbc43"
      },
      "outputs": [
        {
          "output_type": "stream",
          "name": "stdout",
          "text": [
            "No\n"
          ]
        }
      ],
      "source": [
        "a=1\n",
        "if a>3 :\n",
        "   print('Yes')\n",
        "else:\n",
        "  print('No')"
      ]
    },
    {
      "cell_type": "code",
      "source": [
        "if a>0:\n",
        "  print('Yes')\n",
        "  print('ok')\n",
        "else:\n",
        "    print('no')\n"
      ],
      "metadata": {
        "colab": {
          "base_uri": "https://localhost:8080/"
        },
        "id": "JOaQXudysc3z",
        "outputId": "02ecaabc-fc21-4b07-e14c-45fc242c7a8b"
      },
      "execution_count": 2,
      "outputs": [
        {
          "output_type": "stream",
          "name": "stdout",
          "text": [
            "Yes\n",
            "ok\n"
          ]
        }
      ]
    },
    {
      "cell_type": "code",
      "source": [
        "# jumsu가 80이상 '상', 80미만~60이상'중' 60미만 '하'\n",
        "jumsu=55\n",
        "if jumsu >=80:\n",
        "  print('상')\n",
        "elif jumsu >=60:\n",
        "  print('중')\n",
        "else:\n",
        "    print('하')\n",
        "\n"
      ],
      "metadata": {
        "colab": {
          "base_uri": "https://localhost:8080/"
        },
        "id": "y6I8cy9MsqFJ",
        "outputId": "42c90aa5-f2ad-4479-d084-4cfd01dab593"
      },
      "execution_count": 4,
      "outputs": [
        {
          "output_type": "stream",
          "name": "stdout",
          "text": [
            "하\n"
          ]
        }
      ]
    },
    {
      "cell_type": "code",
      "source": [],
      "metadata": {
        "id": "HxNb5gvKtuNq"
      },
      "execution_count": null,
      "outputs": []
    },
    {
      "cell_type": "markdown",
      "source": [
        "existance  \n",
        "python에서 조건은 존재론 적이다 ->truthy,falsy"
      ],
      "metadata": {
        "id": "nzRSgOl4tvG_"
      }
    },
    {
      "cell_type": "code",
      "source": [
        "# 0은 숫자가 없는 것과 같음 -> falsy\n",
        "a = 0.0\n",
        "if a:\n",
        "  print('yes')\n",
        "else:\n",
        "   print('no') "
      ],
      "metadata": {
        "colab": {
          "base_uri": "https://localhost:8080/"
        },
        "id": "B2J8IWQ7t2wo",
        "outputId": "f779232c-d5ca-4220-86fe-a009ecc8f97b"
      },
      "execution_count": 7,
      "outputs": [
        {
          "output_type": "stream",
          "name": "stdout",
          "text": [
            "no\n"
          ]
        }
      ]
    },
    {
      "cell_type": "code",
      "source": [
        "# 비어 있는 dict은 없는 것과 같음 -> falsy\n",
        "a = {}\n",
        "if a:\n",
        "  print('yes')\n",
        "else:\n",
        "  print('no')"
      ],
      "metadata": {
        "colab": {
          "base_uri": "https://localhost:8080/"
        },
        "id": "-3hF7I_8vQ3w",
        "outputId": "c7614442-7f06-4d0f-96a8-331803ae10a2"
      },
      "execution_count": 8,
      "outputs": [
        {
          "output_type": "stream",
          "name": "stdout",
          "text": [
            "no\n"
          ]
        }
      ]
    },
    {
      "cell_type": "code",
      "source": [
        "# and는 앞이 False이면 앞에 값을 반환한다.\n",
        "# 비어 잇는 문자열은 없는 것과 같은 - > falsy\n",
        "\"\" and 4"
      ],
      "metadata": {
        "colab": {
          "base_uri": "https://localhost:8080/",
          "height": 35
        },
        "id": "Iyy8-qXNyp2Y",
        "outputId": "04d5476a-56e1-443c-cb12-a8896e7f0192"
      },
      "execution_count": 9,
      "outputs": [
        {
          "output_type": "execute_result",
          "data": {
            "text/plain": [
              "''"
            ],
            "application/vnd.google.colaboratory.intrinsic+json": {
              "type": "string"
            }
          },
          "metadata": {},
          "execution_count": 9
        }
      ]
    },
    {
      "cell_type": "code",
      "source": [
        "# or은 and의 반대\n",
        "# 앞이 true이면 앞, 앞이 false이면 뒤의 값을 반환한다.\n",
        "3 or 4"
      ],
      "metadata": {
        "colab": {
          "base_uri": "https://localhost:8080/"
        },
        "id": "gc9e6JGSyyww",
        "outputId": "f65f310b-4fec-448e-89f3-f0087ab76c82"
      },
      "execution_count": 10,
      "outputs": [
        {
          "output_type": "execute_result",
          "data": {
            "text/plain": [
              "3"
            ]
          },
          "metadata": {},
          "execution_count": 10
        }
      ]
    },
    {
      "cell_type": "code",
      "source": [
        "# if 조건에 문장을 사용할 수 없다.\n",
        "if a=4:\n",
        "  print('Yes')"
      ],
      "metadata": {
        "colab": {
          "base_uri": "https://localhost:8080/",
          "height": 136
        },
        "id": "PoA02TEG3e2Z",
        "outputId": "41d4710c-6b5c-47d3-c379-78725ba31e1a"
      },
      "execution_count": 11,
      "outputs": [
        {
          "output_type": "error",
          "ename": "SyntaxError",
          "evalue": "ignored",
          "traceback": [
            "\u001b[0;36m  File \u001b[0;32m\"<ipython-input-11-d1d870694cf4>\"\u001b[0;36m, line \u001b[0;32m1\u001b[0m\n\u001b[0;31m    if a=4:\u001b[0m\n\u001b[0m        ^\u001b[0m\n\u001b[0;31mSyntaxError\u001b[0m\u001b[0;31m:\u001b[0m invalid syntax\n"
          ]
        }
      ]
    },
    {
      "cell_type": "code",
      "source": [],
      "metadata": {
        "id": "H_iv95YL3-Kq"
      },
      "execution_count": null,
      "outputs": []
    },
    {
      "cell_type": "markdown",
      "source": [
        "# For문\n",
        "- 반복문에서 else는 반복문이 완벽하게 끝낫을때 실행된다.  \n",
        "대부분의 프로그래밍 언어는 while과 for을 지원한다.  \n",
        "아래는 while문이 완벽히 돌았으므로 end를 출력한다.\n",
        "- 범위를 지정하는 방법에는 두 가지가 있다\n",
        " 두번째 방법은 변수 자체를 출력하는 방법이다.  \n",
        " for 변수 in reange(시작번호, 마지막번호, 증가값)\n",
        " - **enumerta 함수**  \n",
        " enumerate([순서자료형],[시작값=0])의 형식을 가지며 순서자료형은 반복자가 가능한 객체가 입력되고 시작값은 입력시 해당수 부터 증가하며, 생략했을 경우 기본값은 0이다.\n",
        " - **zip함수**  \n",
        " 매개 인자로 여러 목록을 받아 각 목록의 요소를 튜플에 담아 목록에 저장한다.\n",
        " - **items 함수**  \n",
        " dict의 내장함수로 키와 값을 동시에 검색한다."
      ],
      "metadata": {
        "id": "FQfotuzA3-UX"
      }
    },
    {
      "cell_type": "code",
      "source": [
        "for v in[1,2,3,4,5]:\n",
        "  print(v)"
      ],
      "metadata": {
        "colab": {
          "base_uri": "https://localhost:8080/"
        },
        "id": "Md4D3Bv74Gbh",
        "outputId": "a17ee5af-5044-4eba-d416-dd4bb9873889"
      },
      "execution_count": 12,
      "outputs": [
        {
          "output_type": "stream",
          "name": "stdout",
          "text": [
            "1\n",
            "2\n",
            "3\n",
            "4\n",
            "5\n"
          ]
        }
      ]
    },
    {
      "cell_type": "code",
      "source": [
        "t=[('one',1),('two',2)]\n",
        "for k, v in t:\n",
        "  print('{0}:{1}'.format(k,v))\n",
        "\n",
        "\n",
        "dic = {'a':1, 'b':2}\n",
        "for k in dic:\n",
        "  print('{0}:{1}'.format(k,dic[k]))"
      ],
      "metadata": {
        "colab": {
          "base_uri": "https://localhost:8080/"
        },
        "id": "Z6qFWGuw6DKa",
        "outputId": "839002eb-2004-471e-c272-fbc2ac29b362"
      },
      "execution_count": 17,
      "outputs": [
        {
          "output_type": "stream",
          "name": "stdout",
          "text": [
            "one:1\n",
            "two:2\n",
            "a:1\n",
            "b:2\n"
          ]
        }
      ]
    },
    {
      "cell_type": "code",
      "source": [
        "a = 20;\n",
        "while a>10:\n",
        "  a -=1\n",
        "  print(a)\n",
        "else:\n",
        "    print('end')"
      ],
      "metadata": {
        "colab": {
          "base_uri": "https://localhost:8080/"
        },
        "id": "sDyC4At194VT",
        "outputId": "ff8dd52b-ccea-4a0a-93b6-2cd82127789f"
      },
      "execution_count": 18,
      "outputs": [
        {
          "output_type": "stream",
          "name": "stdout",
          "text": [
            "19\n",
            "18\n",
            "17\n",
            "16\n",
            "15\n",
            "14\n",
            "13\n",
            "12\n",
            "11\n",
            "10\n",
            "end\n"
          ]
        }
      ]
    },
    {
      "cell_type": "code",
      "source": [
        "a = 10\n",
        "while a>1:\n",
        "  a-=1\n",
        "  if a==5:\n",
        "    break # 중단 시키면 else쪽은 출력하지않는다.\n",
        "  print(a)\n",
        "else:\n",
        "  print('end')"
      ],
      "metadata": {
        "colab": {
          "base_uri": "https://localhost:8080/"
        },
        "id": "38glGkxy_HxF",
        "outputId": "570e09b7-febc-45c0-f909-0b75c9919211"
      },
      "execution_count": 19,
      "outputs": [
        {
          "output_type": "stream",
          "name": "stdout",
          "text": [
            "9\n",
            "8\n",
            "7\n",
            "6\n"
          ]
        }
      ]
    },
    {
      "cell_type": "code",
      "source": [
        "# continue는 다음 루프로 바로 넘어간다.\n",
        "# 반복문을 중단하지는 않으므로 else문이 실행된다.\n",
        "a = 10      \n",
        "while a>1:\n",
        "  a-= 1\n",
        "  if a==5:\n",
        "     continue\n",
        "  print(a)\n",
        "else:\n",
        "   print('end')  "
      ],
      "metadata": {
        "colab": {
          "base_uri": "https://localhost:8080/"
        },
        "id": "KrLTr9lN_7xE",
        "outputId": "1518781b-1ad8-454b-8bee-8c3184da6b88"
      },
      "execution_count": 20,
      "outputs": [
        {
          "output_type": "stream",
          "name": "stdout",
          "text": [
            "9\n",
            "8\n",
            "7\n",
            "6\n",
            "4\n",
            "3\n",
            "2\n",
            "1\n",
            "end\n"
          ]
        }
      ]
    },
    {
      "cell_type": "code",
      "source": [
        "for k, v in enumerate(['apple','python','microsoft']):\n",
        "  print('{0}:{1}'.format(k,v))"
      ],
      "metadata": {
        "colab": {
          "base_uri": "https://localhost:8080/"
        },
        "id": "fnj5gZSOKlzM",
        "outputId": "044b98ab-bd9e-4633-a757-2aa02d940c00"
      },
      "execution_count": 21,
      "outputs": [
        {
          "output_type": "stream",
          "name": "stdout",
          "text": [
            "0:apple\n",
            "1:python\n",
            "2:microsoft\n"
          ]
        }
      ]
    },
    {
      "cell_type": "code",
      "source": [
        "for j in enumerate(['apple','python','microsoft'],1):\n",
        "  print('{0}'.format(j))"
      ],
      "metadata": {
        "colab": {
          "base_uri": "https://localhost:8080/"
        },
        "id": "bAuxS_irLM9T",
        "outputId": "03f7f38a-03ca-4092-e980-6f78e856fb21"
      },
      "execution_count": 22,
      "outputs": [
        {
          "output_type": "stream",
          "name": "stdout",
          "text": [
            "(1, 'apple')\n",
            "(2, 'python')\n",
            "(3, 'microsoft')\n"
          ]
        }
      ]
    },
    {
      "cell_type": "code",
      "source": [
        "a = [1,2,3,4,5]\n",
        "b = ['a','b','c','d','e']\n",
        "for x,y in zip (a,b):\n",
        "  print(x,y)\n",
        "  t=x,y\n",
        "  print(type(t))\n",
        "  "
      ],
      "metadata": {
        "colab": {
          "base_uri": "https://localhost:8080/"
        },
        "id": "uRFVPr-BL6El",
        "outputId": "aab60568-0094-47c4-8be0-7346f6f0d8a2"
      },
      "execution_count": 23,
      "outputs": [
        {
          "output_type": "stream",
          "name": "stdout",
          "text": [
            "1 a\n",
            "<class 'tuple'>\n",
            "2 b\n",
            "<class 'tuple'>\n",
            "3 c\n",
            "<class 'tuple'>\n",
            "4 d\n",
            "<class 'tuple'>\n",
            "5 e\n",
            "<class 'tuple'>\n"
          ]
        }
      ]
    },
    {
      "cell_type": "code",
      "source": [
        "dic = {'애플': 'www.apple.com', '파이썬':'www.python.org'}\n",
        "for k, v in dic.items():\n",
        "  print('{0}:{1}'.format(k,v))\n",
        "  m=k,v\n",
        "  print(type(m))"
      ],
      "metadata": {
        "colab": {
          "base_uri": "https://localhost:8080/"
        },
        "id": "Jw7kjl0iMV_N",
        "outputId": "96c415de-508b-4ebf-e169-079edcc4364f"
      },
      "execution_count": 24,
      "outputs": [
        {
          "output_type": "stream",
          "name": "stdout",
          "text": [
            "애플:www.apple.com\n",
            "<class 'tuple'>\n",
            "파이썬:www.python.org\n",
            "<class 'tuple'>\n"
          ]
        }
      ]
    },
    {
      "cell_type": "code",
      "source": [],
      "metadata": {
        "id": "UuY9bjr7ONj8"
      },
      "execution_count": null,
      "outputs": []
    },
    {
      "cell_type": "markdown",
      "source": [
        "# 파이썬 예외처리\n",
        "- 예외 (Exception)\n",
        "- 프로그램을 수행하다 보면 문법적으로 문제가 없는 코드를 실행하는 중에 더 이상 진행할수 없는 상황이 발생하는 경우를 의미한다.\n",
        "- 모든 예외는 클래스로 표현되며 최상위 클래스는 BaseException클래스 이다.\n",
        "- **예외 상황**\n",
        "0으로 숫자 나누기  \n",
        "문자열과 숫자 더하기  \n",
        "참조 범위를 넘어서 인덱스 참조하기  \n",
        "등록되어 있지 않은 키로 사전 검색하기  \n",
        "![python](https://python.bakyeono.net/img/img-9-4.png)\n",
        "- **예외처리**\n",
        "try:\n",
        "<예외가 발생될 가능성이 있는 문장>  \n",
        "except[발생 오류[as 오루 메시지 변수]]:  \n",
        "<에러가 발생했을때 실행되는 문장>  \n",
        "Else:  \n",
        "<예외가 발생하지 않았을때 실행되는 문장  \n",
        "finally:  \n",
        "<예외 발생 여부에 상관없이 무조건 실행되는 문장>  \n",
        "- **복수개의 except**\n",
        "try:\n",
        "문제가 없을 경우 실행할 코드    \n",
        " except 예외형식1 as err:   \n",
        "문제가 생겼을때 실행할 코드  \n",
        "except 예외형식2 as err:  \n",
        "문제가 생겼을때 실행할 코드   \n",
        "\n",
        "- **try ~ except ~ else**\n",
        "- try와 함께 사용하는 else절은 try절에 있는 코드블록 실행중에 아무런 예외가 일어나지 않으면 실행됨.\n",
        "\n"
      ],
      "metadata": {
        "id": "8yLVzz38OOqR"
      }
    },
    {
      "cell_type": "code",
      "source": [
        "#ZeroDivisionError: division by zero\n",
        "a,b = 5,0\n",
        "\n",
        "c= a/b\n",
        "print(c)\n"
      ],
      "metadata": {
        "colab": {
          "base_uri": "https://localhost:8080/",
          "height": 227
        },
        "id": "KgTwYhzeO9l0",
        "outputId": "eb10e85a-be63-4d33-d2c8-1bf3f42e7189"
      },
      "execution_count": 30,
      "outputs": [
        {
          "output_type": "error",
          "ename": "ZeroDivisionError",
          "evalue": "ignored",
          "traceback": [
            "\u001b[0;31m---------------------------------------------------------------------------\u001b[0m",
            "\u001b[0;31mZeroDivisionError\u001b[0m                         Traceback (most recent call last)",
            "\u001b[0;32m<ipython-input-30-41b6e9cbb59b>\u001b[0m in \u001b[0;36m<module>\u001b[0;34m\u001b[0m\n\u001b[1;32m      1\u001b[0m \u001b[0ma\u001b[0m\u001b[0;34m,\u001b[0m\u001b[0mb\u001b[0m \u001b[0;34m=\u001b[0m \u001b[0;36m5\u001b[0m\u001b[0;34m,\u001b[0m\u001b[0;36m0\u001b[0m\u001b[0;34m\u001b[0m\u001b[0;34m\u001b[0m\u001b[0m\n\u001b[1;32m      2\u001b[0m \u001b[0;34m\u001b[0m\u001b[0m\n\u001b[0;32m----> 3\u001b[0;31m \u001b[0mc\u001b[0m\u001b[0;34m=\u001b[0m \u001b[0ma\u001b[0m\u001b[0;34m/\u001b[0m\u001b[0mb\u001b[0m\u001b[0;34m\u001b[0m\u001b[0;34m\u001b[0m\u001b[0m\n\u001b[0m\u001b[1;32m      4\u001b[0m \u001b[0mprint\u001b[0m\u001b[0;34m(\u001b[0m\u001b[0mc\u001b[0m\u001b[0;34m)\u001b[0m\u001b[0;34m\u001b[0m\u001b[0;34m\u001b[0m\u001b[0m\n",
            "\u001b[0;31mZeroDivisionError\u001b[0m: division by zero"
          ]
        }
      ]
    },
    {
      "cell_type": "code",
      "source": [
        "# NameError: name 'spam' is not defined\n",
        "4 + spam * 3"
      ],
      "metadata": {
        "colab": {
          "base_uri": "https://localhost:8080/",
          "height": 172
        },
        "id": "C_ThKWkKPf6S",
        "outputId": "3ea99bd2-7e82-4816-e98c-1a762873ed3e"
      },
      "execution_count": 31,
      "outputs": [
        {
          "output_type": "error",
          "ename": "NameError",
          "evalue": "ignored",
          "traceback": [
            "\u001b[0;31m---------------------------------------------------------------------------\u001b[0m",
            "\u001b[0;31mNameError\u001b[0m                                 Traceback (most recent call last)",
            "\u001b[0;32m<ipython-input-31-c8ef1c0a2ff8>\u001b[0m in \u001b[0;36m<module>\u001b[0;34m\u001b[0m\n\u001b[0;32m----> 1\u001b[0;31m \u001b[0;36m4\u001b[0m \u001b[0;34m+\u001b[0m \u001b[0mspam\u001b[0m \u001b[0;34m*\u001b[0m \u001b[0;36m3\u001b[0m\u001b[0;34m\u001b[0m\u001b[0;34m\u001b[0m\u001b[0m\n\u001b[0m",
            "\u001b[0;31mNameError\u001b[0m: name 'spam' is not defined"
          ]
        }
      ]
    },
    {
      "cell_type": "code",
      "source": [
        "# ValueError: invalid literal for int() with base 10: 'abc'\n",
        "int(3) **int('abc')"
      ],
      "metadata": {
        "colab": {
          "base_uri": "https://localhost:8080/",
          "height": 172
        },
        "id": "K9vCJnkXP1oM",
        "outputId": "7dc90d24-78de-4127-f4b0-c843ef785a0d"
      },
      "execution_count": 32,
      "outputs": [
        {
          "output_type": "error",
          "ename": "ValueError",
          "evalue": "ignored",
          "traceback": [
            "\u001b[0;31m---------------------------------------------------------------------------\u001b[0m",
            "\u001b[0;31mValueError\u001b[0m                                Traceback (most recent call last)",
            "\u001b[0;32m<ipython-input-32-f6b712591884>\u001b[0m in \u001b[0;36m<module>\u001b[0;34m\u001b[0m\n\u001b[0;32m----> 1\u001b[0;31m \u001b[0mint\u001b[0m\u001b[0;34m(\u001b[0m\u001b[0;36m3\u001b[0m\u001b[0;34m)\u001b[0m \u001b[0;34m**\u001b[0m\u001b[0mint\u001b[0m\u001b[0;34m(\u001b[0m\u001b[0;34m'abc'\u001b[0m\u001b[0;34m)\u001b[0m\u001b[0;34m\u001b[0m\u001b[0;34m\u001b[0m\u001b[0m\n\u001b[0m",
            "\u001b[0;31mValueError\u001b[0m: invalid literal for int() with base 10: 'abc'"
          ]
        }
      ]
    },
    {
      "cell_type": "code",
      "source": [
        "# TypeError: can only concatenate str (not \"int\") to str\n",
        "'2' + 2"
      ],
      "metadata": {
        "colab": {
          "base_uri": "https://localhost:8080/",
          "height": 172
        },
        "id": "ybVDf3EYQQA7",
        "outputId": "67628d43-9034-43d9-c46a-607759f81dc2"
      },
      "execution_count": 33,
      "outputs": [
        {
          "output_type": "error",
          "ename": "TypeError",
          "evalue": "ignored",
          "traceback": [
            "\u001b[0;31m---------------------------------------------------------------------------\u001b[0m",
            "\u001b[0;31mTypeError\u001b[0m                                 Traceback (most recent call last)",
            "\u001b[0;32m<ipython-input-33-d2b23a1db757>\u001b[0m in \u001b[0;36m<module>\u001b[0;34m\u001b[0m\n\u001b[0;32m----> 1\u001b[0;31m \u001b[0;34m'2'\u001b[0m \u001b[0;34m+\u001b[0m \u001b[0;36m2\u001b[0m\u001b[0;34m\u001b[0m\u001b[0;34m\u001b[0m\u001b[0m\n\u001b[0m",
            "\u001b[0;31mTypeError\u001b[0m: can only concatenate str (not \"int\") to str"
          ]
        }
      ]
    },
    {
      "cell_type": "code",
      "source": [
        "my_list = [1,2,3]\n",
        "try :\n",
        "  print(\"첨자를 입력하세요:\")\n",
        "  index = int(input())\n",
        "  print(my_list[index]/0)\n",
        "except ZeroDivisionError as err:\n",
        "    print('0으로 나눌 수 없습니다.({0})'.format(err))\n",
        "except IndexError as err:\n",
        "    print(\"잘못된 첨자입니다.\"({0})\".format(err))"
      ],
      "metadata": {
        "colab": {
          "base_uri": "https://localhost:8080/",
          "height": 136
        },
        "id": "7Lg32_WRQYX7",
        "outputId": "b1745630-fdb1-4b9f-a0ce-bf379f752165"
      },
      "execution_count": 35,
      "outputs": [
        {
          "output_type": "error",
          "ename": "SyntaxError",
          "evalue": "ignored",
          "traceback": [
            "\u001b[0;36m  File \u001b[0;32m\"<ipython-input-35-0fd9fd8cad03>\"\u001b[0;36m, line \u001b[0;32m9\u001b[0m\n\u001b[0;31m    print(\"잘못된 첨자입니다.\"({0})\".format(err))\u001b[0m\n\u001b[0m                                         ^\u001b[0m\n\u001b[0;31mSyntaxError\u001b[0m\u001b[0;31m:\u001b[0m EOL while scanning string literal\n"
          ]
        }
      ]
    },
    {
      "cell_type": "code",
      "source": [
        "my_list = [1,2,3]\n",
        "try:\n",
        "  print('첨자를 입력하세요.')\n",
        "  index = int(input())\n",
        "  print('my_list[{0}]:{1}'.format(index, my_list[index]))\n",
        "else:\n",
        "  print(\"리스트의 요소 출력에 성공하였습니다.,\")\n"
      ],
      "metadata": {
        "colab": {
          "base_uri": "https://localhost:8080/",
          "height": 136
        },
        "id": "VfXL1W2wcxir",
        "outputId": "8fded60d-2637-4bf3-e460-a3df436c1b6b"
      },
      "execution_count": 40,
      "outputs": [
        {
          "output_type": "error",
          "ename": "SyntaxError",
          "evalue": "ignored",
          "traceback": [
            "\u001b[0;36m  File \u001b[0;32m\"<ipython-input-40-6da3e9eec953>\"\u001b[0;36m, line \u001b[0;32m6\u001b[0m\n\u001b[0;31m    else:\u001b[0m\n\u001b[0m    ^\u001b[0m\n\u001b[0;31mSyntaxError\u001b[0m\u001b[0;31m:\u001b[0m invalid syntax\n"
          ]
        }
      ]
    },
    {
      "cell_type": "markdown",
      "source": [
        "### 매개변수(parameter) 인자(argument)\n",
        "1. positioanl\n",
        "2. keyword\n",
        "3. position & keyword\n",
        "4. position only\n",
        "5. keyword only\n",
        "6. 가변 positional\n",
        "7. 가변 keyword\n",
        "---\n",
        "- positional  \n",
        "함수호출 : 선언할때 피라미터의 순서와 호출할때 인자의 입력순서를 그대로 매칭한다.  def proc(a,b):\n",
        "              return a, b\n",
        "               proc(2,4) = (2,4) \n",
        "- keyword  \n",
        "keyword방식을 이용하면 순서와 관계없이 파라미터 이름에 따라 값이 대입된다.  \n",
        "proc(b=4, a=2)  \n",
        "\n",
        "   (2,4)\n",
        "- keyword & position 혼합  \n",
        "(포지셔널이 앞에무조건와야하고 한번 keyword방식을 사용하면 그다음도 사용해야한다)  \n",
        "def proc(a,b,c):  \n",
        " return a,b,c\n",
        " proc(2, c=5, b=3) = (2,3,5)\n",
        "- position only\n",
        "position only는 함수를 사용할 때 position방식으로만 인자를 쓸수 있도록 강제하는 방법이다.\n",
        "/ 의 앞에 오는 인자들은 position방식으로 입력할수 있지만.\n",
        "keyword방식으로 입력할 수 없다.\n",
        "position only 함수를 선언하는 것은 python 3.8부터 지원한다.\n",
        "이전버전에서는 사전 정의된 position only함수는 있지만 사용자가 만들수는 없었다.  \n",
        "def proc(a,b,c, /) :  \n",
        "proc(4,5,6) = (4,5,6)"
      ],
      "metadata": {
        "id": "hjVCOQajpXXk"
      }
    }
  ]
}