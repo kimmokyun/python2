{
  "nbformat": 4,
  "nbformat_minor": 0,
  "metadata": {
    "colab": {
      "provenance": [],
      "authorship_tag": "ABX9TyMjmiAdOkRcppD1BcJPNXf2",
      "include_colab_link": true
    },
    "kernelspec": {
      "name": "python3",
      "display_name": "Python 3"
    },
    "language_info": {
      "name": "python"
    }
  },
  "cells": [
    {
      "cell_type": "markdown",
      "metadata": {
        "id": "view-in-github",
        "colab_type": "text"
      },
      "source": [
        "<a href=\"https://colab.research.google.com/github/kimmokyun/python2/blob/master/python_15_holly.ipynb\" target=\"_parent\"><img src=\"https://colab.research.google.com/assets/colab-badge.svg\" alt=\"Open In Colab\"/></a>"
      ]
    },
    {
      "cell_type": "markdown",
      "source": [
        "### 할리스 크롤링하기\n"
      ],
      "metadata": {
        "id": "kyZmfLOzIPzo"
      }
    },
    {
      "cell_type": "code",
      "source": [
        "### 구글 드라이버 연결"
      ],
      "metadata": {
        "id": "Wxx3bfHiIRNb"
      },
      "execution_count": 1,
      "outputs": []
    },
    {
      "cell_type": "code",
      "source": [
        "from google.colab import drive\n",
        "drive.mount('/content/drive')\n",
        "%cd /content/drive/MyDrive/python_demo"
      ],
      "metadata": {
        "colab": {
          "base_uri": "https://localhost:8080/"
        },
        "id": "XiT1Tvu9IdFb",
        "outputId": "354c4653-f00e-48ab-fdfc-9406c51b1766"
      },
      "execution_count": 2,
      "outputs": [
        {
          "output_type": "stream",
          "name": "stdout",
          "text": [
            "Mounted at /content/drive\n",
            "/content/drive/MyDrive/python_demo\n"
          ]
        }
      ]
    },
    {
      "cell_type": "markdown",
      "source": [
        "# 1. import"
      ],
      "metadata": {
        "id": "iUL7f15aIy1B"
      }
    },
    {
      "cell_type": "code",
      "source": [
        "from bs4 import BeautifulSoup\n",
        "import requests"
      ],
      "metadata": {
        "id": "tJ65-nNTI0wV"
      },
      "execution_count": 3,
      "outputs": []
    },
    {
      "cell_type": "markdown",
      "source": [
        "# 2. 작업결과를 저장할 리스트 준비"
      ],
      "metadata": {
        "id": "nQyfbP2CI6mQ"
      }
    },
    {
      "cell_type": "code",
      "source": [
        "result = []"
      ],
      "metadata": {
        "id": "vsr_cilfI9sV"
      },
      "execution_count": 5,
      "outputs": []
    },
    {
      "cell_type": "markdown",
      "source": [
        "# 3. BeautifulSoup 객체 생성하여 파싱"
      ],
      "metadata": {
        "id": "Gjg1rUhlJC_I"
      }
    },
    {
      "cell_type": "code",
      "source": [
        "header = {\"User-Agent\":\"Mozilla/5.0 (Windows NT 10.0; Win64; x64) AppleWebKit/537.36 (KHTML, like Gecko) Chrome/108.0.0.0 Safari/537.36 Edg/108.0.1462.42\"}\n",
        "url = \"https://www.hollys.co.kr/store/korea/korStore2.do\"\n",
        "\n",
        "res = requests.get(url, headers = header)\n",
        "soup = BeautifulSoup(res.text, 'html.parser')\n",
        "# print(type(soup))\n",
        "\n",
        "tbody_tag = soup.find('tbody')\n",
        "#print(type(tbody_tag))\n",
        "\n",
        "#tr_list_tag = soup.find_all('tr')\n",
        "#print(len(tr_list_tag))\n",
        "#print(type(tr_list_tag))\n",
        "tbody_tr_list_tag = tbody_tag.find_all('tr')\n",
        "#print(tbody_tr_list_tag)"
      ],
      "metadata": {
        "id": "nd759kGHJHDS"
      },
      "execution_count": 27,
      "outputs": []
    },
    {
      "cell_type": "code",
      "source": [
        "for store in tbody_tr_list_tag :\n",
        "  store_td = store.find_all('td')\n",
        "  store_area = store_td[0].string\n",
        "  store_name = store_td[1].string\n",
        "  store_phone = store_td[5].string\n",
        "  result.append([store_area] + [store_name] + [store_phone])"
      ],
      "metadata": {
        "id": "tXL_EpcUNQHf"
      },
      "execution_count": 28,
      "outputs": []
    },
    {
      "cell_type": "markdown",
      "source": [],
      "metadata": {
        "id": "Knwcci03PqKz"
      }
    },
    {
      "cell_type": "code",
      "source": [
        "#참고\n",
        "['a'] + ['b']"
      ],
      "metadata": {
        "colab": {
          "base_uri": "https://localhost:8080/"
        },
        "id": "IIRvPBQWOhkt",
        "outputId": "7cf0903a-e9ba-424e-be29-fa72b63588da"
      },
      "execution_count": 13,
      "outputs": [
        {
          "output_type": "execute_result",
          "data": {
            "text/plain": [
              "['a', 'b']"
            ]
          },
          "metadata": {},
          "execution_count": 13
        }
      ]
    },
    {
      "cell_type": "code",
      "source": [
        "result"
      ],
      "metadata": {
        "colab": {
          "base_uri": "https://localhost:8080/"
        },
        "id": "4dC1JEphO8Sz",
        "outputId": "98856ad9-b446-4942-eba1-c053157b653c"
      },
      "execution_count": 29,
      "outputs": [
        {
          "output_type": "execute_result",
          "data": {
            "text/plain": [
              "[['서울 강남구', '강남우리라운지점', '02-566-1002'],\n",
              " ['경기 수원시', '수원영통점', '031-202-3356'],\n",
              " ['경기 고양시 덕양구', '원흥역점', '031.967.0302'],\n",
              " ['서울 양천구', '오목교역점', '02-2062-8405'],\n",
              " ['대구 서구', '롯데시네마프리미엄만경관점', '070-7717-2192'],\n",
              " ['전남 순천시', '순천신대점', '061-723-5185'],\n",
              " ['서울 금천구', '시흥사거리점', '02-804-9226'],\n",
              " ['전북 전주시 완산구', '전주효천점', '063-224-5777'],\n",
              " ['제주 제주시', '제주도두해안DT점', '064-745-7301'],\n",
              " ['부산 북구', '부산화명점', '070-8884-1101']]"
            ]
          },
          "metadata": {},
          "execution_count": 29
        }
      ]
    },
    {
      "cell_type": "markdown",
      "source": [
        "# 테이블을 csv파일로 저장"
      ],
      "metadata": {
        "id": "ilVbO68CPsDB"
      }
    },
    {
      "cell_type": "code",
      "source": [
        "import csv\n",
        "#field names\n",
        "fields = ['StoreArea', 'Store_name', 'Store_phone']\n",
        "with open('./data_crowing/hollys.csv', 'w', newline = '') as f:\n",
        "  write = csv.writer(f)\n",
        "  write.writerow(fields)\n",
        "  write.writerow(result)\n"
      ],
      "metadata": {
        "id": "h2zu-48fSPL8"
      },
      "execution_count": 35,
      "outputs": []
    },
    {
      "cell_type": "code",
      "source": [
        "!pwd"
      ],
      "metadata": {
        "colab": {
          "base_uri": "https://localhost:8080/"
        },
        "id": "Xs4CeXJ8S2gr",
        "outputId": "80eac3ae-da4a-4372-a418-50b83572f33f"
      },
      "execution_count": 30,
      "outputs": [
        {
          "output_type": "stream",
          "name": "stdout",
          "text": [
            "/content/drive/MyDrive/python_demo\n"
          ]
        }
      ]
    },
    {
      "cell_type": "code",
      "source": [
        "!mkdir data_crowing"
      ],
      "metadata": {
        "id": "KMsebMzLTjdt"
      },
      "execution_count": 34,
      "outputs": []
    },
    {
      "cell_type": "code",
      "source": [
        "%cd data_crowing"
      ],
      "metadata": {
        "colab": {
          "base_uri": "https://localhost:8080/"
        },
        "id": "eeaBZI5STs0z",
        "outputId": "9bb6c65c-c1e6-4967-d326-438583b1f803"
      },
      "execution_count": 37,
      "outputs": [
        {
          "output_type": "stream",
          "name": "stdout",
          "text": [
            "/content/drive/MyDrive/python_demo/data_crowing\n"
          ]
        }
      ]
    },
    {
      "cell_type": "code",
      "source": [
        "!ls *.csv"
      ],
      "metadata": {
        "colab": {
          "base_uri": "https://localhost:8080/"
        },
        "id": "cdEf1KCWTx-T",
        "outputId": "4b9ac816-0dbf-4112-d6f3-f40329121ff1"
      },
      "execution_count": 38,
      "outputs": [
        {
          "output_type": "stream",
          "name": "stdout",
          "text": [
            "hollys.csv\n"
          ]
        }
      ]
    },
    {
      "cell_type": "code",
      "source": [
        "%cd .."
      ],
      "metadata": {
        "colab": {
          "base_uri": "https://localhost:8080/"
        },
        "id": "3vPZCAZmT2BE",
        "outputId": "10061cd8-af53-434d-fd72-adf99b633916"
      },
      "execution_count": 41,
      "outputs": [
        {
          "output_type": "stream",
          "name": "stdout",
          "text": [
            "/content/drive/MyDrive/python_demo\n"
          ]
        }
      ]
    },
    {
      "cell_type": "code",
      "source": [
        "!cat hollys.csv"
      ],
      "metadata": {
        "colab": {
          "base_uri": "https://localhost:8080/"
        },
        "id": "Fgj7M2pEU488",
        "outputId": "ee4d243a-713b-444d-ad7d-54b850c419ee"
      },
      "execution_count": 43,
      "outputs": [
        {
          "output_type": "stream",
          "name": "stdout",
          "text": [
            "cat: hollys.csv: No such file or directory\n"
          ]
        }
      ]
    },
    {
      "cell_type": "markdown",
      "source": [
        "# 6. 기타 : 저장할때 날짜 지정"
      ],
      "metadata": {
        "id": "nSdlqMeZVSLS"
      }
    },
    {
      "cell_type": "code",
      "source": [
        "import datetime\n",
        "now = datetime.datetime.today()\n",
        "print(now)\n",
        "print(now.utcnow())\n",
        "print(now.year, now.month, now.day, now.hour, now.minute, now.second)"
      ],
      "metadata": {
        "colab": {
          "base_uri": "https://localhost:8080/"
        },
        "id": "NjZlvQmkVVLU",
        "outputId": "ccabdaba-ba5c-48a5-869d-b2bde368c53a"
      },
      "execution_count": 46,
      "outputs": [
        {
          "output_type": "stream",
          "name": "stdout",
          "text": [
            "2022-12-12 07:58:01.130999\n",
            "2022-12-12 07:58:01.134233\n",
            "2022 12 12 7 58 1\n"
          ]
        }
      ]
    },
    {
      "cell_type": "code",
      "source": [
        "import time\n",
        "time.strftime('%Y-%m-%d', time.localtime(time.time()))"
      ],
      "metadata": {
        "colab": {
          "base_uri": "https://localhost:8080/",
          "height": 35
        },
        "id": "u8wTqdfzWKVg",
        "outputId": "42258efb-990e-40a1-c234-1465e51fa0bb"
      },
      "execution_count": 47,
      "outputs": [
        {
          "output_type": "execute_result",
          "data": {
            "text/plain": [
              "'2022-12-12'"
            ],
            "application/vnd.google.colaboratory.intrinsic+json": {
              "type": "string"
            }
          },
          "metadata": {},
          "execution_count": 47
        }
      ]
    },
    {
      "cell_type": "markdown",
      "source": [
        "## 파이선 파일 작성하여 크롤링 작업하기"
      ],
      "metadata": {
        "id": "twtUYk5hWkqC"
      }
    },
    {
      "cell_type": "code",
      "source": [
        "from bs4 import BeautifulSoup\n",
        "import requests\n",
        "\n",
        "import csv\n",
        "import datetime\n",
        "\n",
        "\n",
        "def hollys_store():\n",
        "  result = []\n",
        "  header = {\"User-Agent\":\"Mozilla/5.0 (Windows NT 10.0; Win64; x64) AppleWebKit/537.36 (KHTML, like Gecko) Chrome/91.0.4472.124 Safari/537.36\"}\n",
        "  url = 'https://m.hollys.co.kr/store/korStore2.do'\n",
        "\n",
        "  res = requests.get(url, headers = header)\n",
        "  html = BeautifulSoup(res.text, 'html.parser')\n",
        "  tag_tbody = html.find('tbody',{'class':'searchResult'})\n",
        "\n",
        "  print(type(tag_tbody.find_all('tr')))\n",
        "  for store in tag_tbody.find_all('tr'):          \n",
        "     if len(store)<=3 :\n",
        "        break\n",
        "\n",
        "     store_td = store.find_all('td')    \n",
        "     store_area = store_td[0].select('div.store_area > a > span.storeArea')[0].string  \n",
        "     store_name = store_td[1].select('span.storeName > img')\n",
        "     if(store_name): \n",
        "         store_name =  store_name[0]['alt']  \n",
        "     else:\n",
        "        store_name = ''\n",
        "     store_phone = store_td[2].string\n",
        "     result.append([store_area]+[store_name]+[store_phone])\n",
        "  return result\n",
        "\n",
        "def main():    \n",
        "    result = hollys_store()   \n",
        "    print('result',result) \n",
        "    # 2022-10-10-hollys.csv\n",
        "    to_now = datetime.datetime.today().date()\n",
        "    \n",
        "    # field names  \n",
        "    fields = ['StoreArea', 'StoreName', 'StorePhone'] \n",
        "\n",
        "    with open('./data_crowing/%s-hollys.csv' % to_now, 'w',newline='') as f: \n",
        "       write = csv.writer(f)       \n",
        "       write.writerow(fields) \n",
        "       write.writerows(result)     \n",
        "   \n",
        "    print('hollys 데이터 저장 완료')\n",
        "    del result[:]\n",
        "\n",
        "if __name__ =='__main__':\n",
        "    main()"
      ],
      "metadata": {
        "colab": {
          "base_uri": "https://localhost:8080/"
        },
        "id": "QP5AsnN7W1nG",
        "outputId": "0d591810-845f-4829-a8bb-00194acbd79a"
      },
      "execution_count": 63,
      "outputs": [
        {
          "output_type": "stream",
          "name": "stdout",
          "text": [
            "<class 'bs4.element.ResultSet'>\n",
            "result [['강남우리라운지점', '주차', '02-566-1002'], ['수원영통점', '주차', '031-202-3356'], ['원흥역점', '주차', '031.967.0302'], ['오목교역점', '주차', '02-2062-8405'], ['롯데시네마프리미엄만경관점', '주차', '070-7717-2192']]\n",
            "hollys 데이터 저장 완료\n"
          ]
        }
      ]
    },
    {
      "cell_type": "code",
      "source": [
        "import json\n",
        "to_now = datetime.datetime.today().date()\n",
        "with open('./data_crowing/%s-hollys.csv' % to_now, 'r') as f:\n",
        "   #print(type(list(f.read())))  \n",
        "   #print(f.readline())\n",
        "   for element in f :\n",
        "     #print(element)\n",
        "     #print(type(element))\n",
        "     td_list = element.split(',')\n",
        "     print(td_list[0], td_list[1], td_list[2])\n",
        "    # break"
      ],
      "metadata": {
        "colab": {
          "base_uri": "https://localhost:8080/"
        },
        "id": "7ghPS5GGaC4j",
        "outputId": "9892cf57-3706-40ab-98dc-de4cad916146"
      },
      "execution_count": 64,
      "outputs": [
        {
          "output_type": "stream",
          "name": "stdout",
          "text": [
            "StoreArea StoreName StorePhone\n",
            "\n",
            "강남우리라운지점 주차 02-566-1002\n",
            "\n",
            "수원영통점 주차 031-202-3356\n",
            "\n",
            "원흥역점 주차 031.967.0302\n",
            "\n",
            "오목교역점 주차 02-2062-8405\n",
            "\n",
            "롯데시네마프리미엄만경관점 주차 070-7717-2192\n",
            "\n"
          ]
        }
      ]
    },
    {
      "cell_type": "code",
      "source": [],
      "metadata": {
        "id": "r6mUR3yPaoBc"
      },
      "execution_count": null,
      "outputs": []
    }
  ]
}